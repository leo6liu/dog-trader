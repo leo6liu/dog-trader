{
 "cells": [
  {
   "attachments": {},
   "cell_type": "markdown",
   "metadata": {},
   "source": [
    "Train on AAPL"
   ]
  },
  {
   "cell_type": "code",
   "execution_count": 24,
   "metadata": {},
   "outputs": [],
   "source": [
    "import pandas as pd\n",
    "from sklearn.metrics import accuracy_score\n",
    "from sklearn.ensemble import RandomForestClassifier\n",
    "import utils"
   ]
  },
  {
   "cell_type": "code",
   "execution_count": 28,
   "metadata": {},
   "outputs": [],
   "source": [
    "input_directory = \"../data/tickers\"\n",
    "\n",
    "# Load the data for each day into a dataframe\n",
    "features_train = []\n",
    "features_test = []\n",
    "targets_train = []\n",
    "targets_test = []\n",
    "for filename in utils.list_files_recursively(input_directory):\n",
    "    # read csv\n",
    "    features_day = pd.read_csv(filename)\n",
    "\n",
    "    # get date\n",
    "    date = utils.read_date_string(filename)\n",
    "\n",
    "    # only keep rows for predicting market times \n",
    "    # (first prediction will occur when 9:29 minute arrives (at start of 9:30), predicting close of 9:30 minute)\n",
    "    # (last prediction will occur when 15:58 minute arrives (at start of 15:59), predicting close of 15:59 minute)\n",
    "    features_day = features_day.loc[features_day[\"time\"] >= \"09:29\"]\n",
    "    features_day = features_day.loc[features_day[\"time\"] <= \"15:59\"] # keep 15:59 minute for now to generate target correctly for 15:58 minute\n",
    "\n",
    "    # calculate targets\n",
    "    targets_day = features_day[\"close\"].diff(-1) < 0 # if 9:30 close - 9:31 close is < 0, then target is true (price increase)\n",
    "\n",
    "    # drop last row of feature and targets (15:59 minute which arrives at market close)\n",
    "    features_day = features_day.iloc[:-1, :]\n",
    "    targets_day = targets_day.iloc[:-1]\n",
    "\n",
    "    # add feature colums for minute in day\n",
    "    # features_day[\"minute\"] = features_day[\"time\"].apply(utils.convert_time_to_minutes)\n",
    "\n",
    "    # drop time column\n",
    "    features_day = features_day.drop(\"time\", axis=1)\n",
    "\n",
    "    # add to training if before 2023/07/25, add to testing if on or after 2023/07/25\n",
    "    if date < \"20230726\":\n",
    "        features_train.append(features_day)\n",
    "        targets_train.append(targets_day)\n",
    "    else:\n",
    "        features_test.append(features_day)\n",
    "        targets_test.append(targets_day)\n"
   ]
  },
  {
   "cell_type": "code",
   "execution_count": 29,
   "metadata": {},
   "outputs": [],
   "source": [
    "features_train = pd.concat(features_train)\n",
    "targets_train = pd.concat(targets_train)\n",
    "features_test = pd.concat(features_test)\n",
    "targets_test = pd.concat(targets_test)"
   ]
  },
  {
   "cell_type": "code",
   "execution_count": 49,
   "metadata": {},
   "outputs": [
    {
     "name": "stdout",
     "output_type": "stream",
     "text": [
      "Accuracy: 0.5044871794871795\n"
     ]
    }
   ],
   "source": [
    "\n",
    "# Train a decision tree classifier\n",
    "classifier = RandomForestClassifier(n_estimators=10, n_jobs=-1, max_depth=10)\n",
    "classifier.fit(features_train, targets_train)\n",
    "\n",
    "# Make predictions on the test set\n",
    "predictions = classifier.predict(features_test)\n",
    "\n",
    "# Evaluate the accuracy of the model\n",
    "accuracy = accuracy_score(targets_test, predictions)\n",
    "\n",
    "print(\"Accuracy:\", accuracy)"
   ]
  }
 ],
 "metadata": {
  "kernelspec": {
   "display_name": "sklearn",
   "language": "python",
   "name": "python3"
  },
  "language_info": {
   "codemirror_mode": {
    "name": "ipython",
    "version": 3
   },
   "file_extension": ".py",
   "mimetype": "text/x-python",
   "name": "python",
   "nbconvert_exporter": "python",
   "pygments_lexer": "ipython3",
   "version": "3.10.9"
  },
  "orig_nbformat": 4
 },
 "nbformat": 4,
 "nbformat_minor": 2
}
