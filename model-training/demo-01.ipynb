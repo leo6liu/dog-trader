{
 "cells": [
  {
   "cell_type": "code",
   "execution_count": 1,
   "metadata": {},
   "outputs": [],
   "source": [
    "#--------------------------------------------------------------------------\n",
    "# Imports\n",
    "#--------------------------------------------------------------------------\n",
    "\n",
    "import os\n",
    "import datetime\n",
    "\n",
    "from windowgenerator import WindowGenerator\n",
    "from baselinemodel import Baseline\n",
    "\n",
    "import matplotlib as mpl\n",
    "import matplotlib.pyplot as plt\n",
    "import numpy as np\n",
    "import pandas as pd\n",
    "import tensorflow as tf\n",
    "from sqlalchemy import create_engine, sql"
   ]
  },
  {
   "cell_type": "code",
   "execution_count": 2,
   "metadata": {},
   "outputs": [],
   "source": [
    "# matplotlib settings\n",
    "mpl.rcParams['figure.figsize'] = (5, 3)\n",
    "mpl.rcParams['axes.grid'] = False"
   ]
  },
  {
   "cell_type": "code",
   "execution_count": 3,
   "metadata": {},
   "outputs": [],
   "source": [
    "#--------------------------------------------------------------------------\n",
    "# Database connection setup\n",
    "#--------------------------------------------------------------------------\n",
    "\n",
    "# get postgres environment variables\n",
    "PG_HOST = os.getenv('PG_HOST')\n",
    "PG_PORT = os.getenv('PG_PORT')\n",
    "PG_DB_NAME = os.getenv('PG_DB_NAME')\n",
    "PG_USERNAME = os.getenv('PG_USERNAME')\n",
    "PG_PASSWORD = os.getenv('PG_PASSWORD')\n",
    "\n",
    "# check for missing environment variables\n",
    "if PG_HOST == None or PG_PORT == None or PG_DB_NAME == None or PG_USERNAME == None or PG_PASSWORD == None:\n",
    "    print('[ ERROR ] Environment variables PG_HOST, PG_PORT, PG_DB_NAME, PG_USERNAME, or PG_PASSWORD not found.')\n",
    "\n",
    "# hard-code table name\n",
    "PG_TABLE = 'bars_minute_eastern'\n",
    "\n",
    "# connect to db and open a cursor to perform database operations\n",
    "conn_string = \"postgresql://{}:{}@{}:{}/{}\".format(PG_USERNAME, PG_PASSWORD, PG_HOST, PG_PORT, PG_DB_NAME)\n",
    "db = create_engine(conn_string)\n",
    "conn = db.connect()"
   ]
  },
  {
   "cell_type": "code",
   "execution_count": 4,
   "metadata": {},
   "outputs": [
    {
     "data": {
      "text/html": [
       "<div>\n",
       "<style scoped>\n",
       "    .dataframe tbody tr th:only-of-type {\n",
       "        vertical-align: middle;\n",
       "    }\n",
       "\n",
       "    .dataframe tbody tr th {\n",
       "        vertical-align: top;\n",
       "    }\n",
       "\n",
       "    .dataframe thead th {\n",
       "        text-align: right;\n",
       "    }\n",
       "</style>\n",
       "<table border=\"1\" class=\"dataframe\">\n",
       "  <thead>\n",
       "    <tr style=\"text-align: right;\">\n",
       "      <th></th>\n",
       "      <th>date</th>\n",
       "      <th>minute_bars</th>\n",
       "    </tr>\n",
       "  </thead>\n",
       "  <tbody>\n",
       "    <tr>\n",
       "      <th>0</th>\n",
       "      <td>2022-06-01</td>\n",
       "      <td>timestamp symbol      open     c...</td>\n",
       "    </tr>\n",
       "    <tr>\n",
       "      <th>1</th>\n",
       "      <td>2022-06-02</td>\n",
       "      <td>timestamp symbol    open     clo...</td>\n",
       "    </tr>\n",
       "    <tr>\n",
       "      <th>2</th>\n",
       "      <td>2022-06-03</td>\n",
       "      <td>timestamp symbol      open     c...</td>\n",
       "    </tr>\n",
       "    <tr>\n",
       "      <th>3</th>\n",
       "      <td>2022-06-06</td>\n",
       "      <td>timestamp symbol      open     c...</td>\n",
       "    </tr>\n",
       "    <tr>\n",
       "      <th>4</th>\n",
       "      <td>2022-06-07</td>\n",
       "      <td>timestamp symbol      open     c...</td>\n",
       "    </tr>\n",
       "  </tbody>\n",
       "</table>\n",
       "</div>"
      ],
      "text/plain": [
       "         date                                        minute_bars\n",
       "0  2022-06-01                timestamp symbol      open     c...\n",
       "1  2022-06-02                timestamp symbol    open     clo...\n",
       "2  2022-06-03                timestamp symbol      open     c...\n",
       "3  2022-06-06                timestamp symbol      open     c...\n",
       "4  2022-06-07                timestamp symbol      open     c..."
      ]
     },
     "execution_count": 4,
     "metadata": {},
     "output_type": "execute_result"
    }
   ],
   "source": [
    "#------------------------------------------------------------------------------\n",
    "# Pull data from db (minute bars for NVDA from 09:00-)\n",
    "#------------------------------------------------------------------------------\n",
    "\n",
    "# create empty dataframe to hold day data\n",
    "days_df = pd.DataFrame(columns=['date', 'minute_bars'])\n",
    "\n",
    "# NOTE: db contains minute bars for NVDA,INTC from 2022/06/01 to 2022/07/01 (inclusive)\n",
    "start_date = datetime.date(2022, 6, 1)\n",
    "end_date = datetime.date(2022, 7, 1)\n",
    "\n",
    "# loop over each date and get minute_bars from db\n",
    "current_date = start_date\n",
    "delta = datetime.timedelta(days=1)\n",
    "while current_date <= end_date:\n",
    "    # pull minute_bars for current_date\n",
    "    day_minute_bars_df = pd.read_sql_query(sql=sql.text(f'select * from { PG_TABLE } where SYMBOL=\\'NVDA\\' and date(TIMESTAMP)=\\'{ current_date }\\''), con=conn)\n",
    "    \n",
    "    # add minute_bars to days_df if there is bar data\n",
    "    if not day_minute_bars_df.empty:\n",
    "      days_df.loc[len(days_df), days_df.columns] = current_date, day_minute_bars_df\n",
    "\n",
    "    # go to next day\n",
    "    current_date += delta\n",
    "\n",
    "days_df.head()\n"
   ]
  }
 ],
 "metadata": {
  "kernelspec": {
   "display_name": "tf",
   "language": "python",
   "name": "python3"
  },
  "language_info": {
   "codemirror_mode": {
    "name": "ipython",
    "version": 3
   },
   "file_extension": ".py",
   "mimetype": "text/x-python",
   "name": "python",
   "nbconvert_exporter": "python",
   "pygments_lexer": "ipython3",
   "version": "3.10.9"
  },
  "orig_nbformat": 4
 },
 "nbformat": 4,
 "nbformat_minor": 2
}
